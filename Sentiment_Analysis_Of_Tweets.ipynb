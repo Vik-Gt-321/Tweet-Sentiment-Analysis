{
  "nbformat": 4,
  "nbformat_minor": 0,
  "metadata": {
    "colab": {
      "name": "Sentiment Analysis Of Tweets.ipynb",
      "provenance": [],
      "include_colab_link": true
    },
    "kernelspec": {
      "name": "python3",
      "display_name": "Python 3"
    },
    "language_info": {
      "name": "python"
    }
  },
  "cells": [
    {
      "cell_type": "markdown",
      "metadata": {
        "id": "view-in-github",
        "colab_type": "text"
      },
      "source": [
        "<a href=\"https://colab.research.google.com/github/Vik-Gt-321/Tweet-Sentiment-Analysis/blob/main/Sentiment_Analysis_Of_Tweets.ipynb\" target=\"_parent\"><img src=\"https://colab.research.google.com/assets/colab-badge.svg\" alt=\"Open In Colab\"/></a>"
      ]
    },
    {
      "cell_type": "code",
      "metadata": {
        "id": "FC0kBvLQZvoo"
      },
      "source": [
        "import numpy as np\n",
        "import pandas as pd\n",
        "import tensorflow as tf\n",
        "import matplotlib.pyplot as plt\n",
        "import random"
      ],
      "execution_count": null,
      "outputs": []
    },
    {
      "cell_type": "markdown",
      "metadata": {
        "id": "5cvD208m8mS3"
      },
      "source": [
        "Things to try out:\n",
        "\n",
        "Use pretrained embeddings\n",
        "\n",
        "Use one_hot\n",
        "\n",
        "https://jalammar.github.io/illustrated-word2vec/"
      ]
    },
    {
      "cell_type": "code",
      "metadata": {
        "id": "6NMIRVAVtvwk",
        "colab": {
          "base_uri": "https://localhost:8080/"
        },
        "outputId": "1db9aec9-f362-436f-aa76-65491492363b"
      },
      "source": [
        "import zipfile\n",
        "zip_ref = zipfile.ZipFile(\"/content/drive/MyDrive/NLP/Corona_NLP_train.csv.zip\")\n",
        "zip_ref.extractall()\n",
        "zip_ref.close"
      ],
      "execution_count": null,
      "outputs": [
        {
          "output_type": "execute_result",
          "data": {
            "text/plain": [
              "<bound method ZipFile.close of <zipfile.ZipFile filename='/content/drive/MyDrive/NLP/Corona_NLP_train.csv.zip' mode='r'>>"
            ]
          },
          "metadata": {},
          "execution_count": 154
        }
      ]
    },
    {
      "cell_type": "code",
      "metadata": {
        "id": "qHK5v6-uX0fx"
      },
      "source": [
        "train_df = pd.read_csv(\"/content/Corona_NLP_train.csv\", engine=\"python\")"
      ],
      "execution_count": null,
      "outputs": []
    },
    {
      "cell_type": "code",
      "metadata": {
        "colab": {
          "base_uri": "https://localhost:8080/",
          "height": 202
        },
        "id": "BZrm9OfLYgVY",
        "outputId": "4053a46f-57a5-4c97-d63d-24c98f1eae7e"
      },
      "source": [
        "train_df.head()"
      ],
      "execution_count": null,
      "outputs": [
        {
          "output_type": "execute_result",
          "data": {
            "text/html": [
              "<div>\n",
              "<style scoped>\n",
              "    .dataframe tbody tr th:only-of-type {\n",
              "        vertical-align: middle;\n",
              "    }\n",
              "\n",
              "    .dataframe tbody tr th {\n",
              "        vertical-align: top;\n",
              "    }\n",
              "\n",
              "    .dataframe thead th {\n",
              "        text-align: right;\n",
              "    }\n",
              "</style>\n",
              "<table border=\"1\" class=\"dataframe\">\n",
              "  <thead>\n",
              "    <tr style=\"text-align: right;\">\n",
              "      <th></th>\n",
              "      <th>UserName</th>\n",
              "      <th>ScreenName</th>\n",
              "      <th>Location</th>\n",
              "      <th>TweetAt</th>\n",
              "      <th>OriginalTweet</th>\n",
              "      <th>Sentiment</th>\n",
              "    </tr>\n",
              "  </thead>\n",
              "  <tbody>\n",
              "    <tr>\n",
              "      <th>0</th>\n",
              "      <td>3799</td>\n",
              "      <td>48751</td>\n",
              "      <td>London</td>\n",
              "      <td>16-03-2020</td>\n",
              "      <td>@MeNyrbie @Phil_Gahan @Chrisitv https://t.co/i...</td>\n",
              "      <td>Neutral</td>\n",
              "    </tr>\n",
              "    <tr>\n",
              "      <th>1</th>\n",
              "      <td>3800</td>\n",
              "      <td>48752</td>\n",
              "      <td>UK</td>\n",
              "      <td>16-03-2020</td>\n",
              "      <td>advice Talk to your neighbours family to excha...</td>\n",
              "      <td>Positive</td>\n",
              "    </tr>\n",
              "    <tr>\n",
              "      <th>2</th>\n",
              "      <td>3801</td>\n",
              "      <td>48753</td>\n",
              "      <td>Vagabonds</td>\n",
              "      <td>16-03-2020</td>\n",
              "      <td>Coronavirus Australia: Woolworths to give elde...</td>\n",
              "      <td>Positive</td>\n",
              "    </tr>\n",
              "    <tr>\n",
              "      <th>3</th>\n",
              "      <td>3802</td>\n",
              "      <td>48754</td>\n",
              "      <td>NaN</td>\n",
              "      <td>16-03-2020</td>\n",
              "      <td>My food stock is not the only one which is emp...</td>\n",
              "      <td>Positive</td>\n",
              "    </tr>\n",
              "    <tr>\n",
              "      <th>4</th>\n",
              "      <td>3803</td>\n",
              "      <td>48755</td>\n",
              "      <td>NaN</td>\n",
              "      <td>16-03-2020</td>\n",
              "      <td>Me, ready to go at supermarket during the #COV...</td>\n",
              "      <td>Extremely Negative</td>\n",
              "    </tr>\n",
              "  </tbody>\n",
              "</table>\n",
              "</div>"
            ],
            "text/plain": [
              "   UserName  ...           Sentiment\n",
              "0      3799  ...             Neutral\n",
              "1      3800  ...            Positive\n",
              "2      3801  ...            Positive\n",
              "3      3802  ...            Positive\n",
              "4      3803  ...  Extremely Negative\n",
              "\n",
              "[5 rows x 6 columns]"
            ]
          },
          "metadata": {},
          "execution_count": 156
        }
      ]
    },
    {
      "cell_type": "code",
      "metadata": {
        "id": "WbfTGDjIZx4t"
      },
      "source": [
        "test_df = pd.read_csv(\"/content/Corona_NLP_test.csv\", engine=\"python\")"
      ],
      "execution_count": null,
      "outputs": []
    },
    {
      "cell_type": "code",
      "metadata": {
        "id": "4vAvmFjRZ3cO"
      },
      "source": [
        "train_df_shuffled = train_df.sample(frac =1, random_state=42)"
      ],
      "execution_count": null,
      "outputs": []
    },
    {
      "cell_type": "code",
      "metadata": {
        "id": "wtBZHbBEmhMj"
      },
      "source": [
        "from sklearn.preprocessing import LabelEncoder\n",
        "label_encoder = LabelEncoder()\n",
        "train_df_shuffled[\"Sentiment\"] = label_encoder.fit_transform(train_df_shuffled.Sentiment)"
      ],
      "execution_count": null,
      "outputs": []
    },
    {
      "cell_type": "code",
      "metadata": {
        "colab": {
          "base_uri": "https://localhost:8080/"
        },
        "id": "6cXL_r6daHog",
        "outputId": "a83fe5cd-a02f-4979-8ff9-8a1bb638b882"
      },
      "source": [
        "train_df_shuffled.Sentiment.value_counts()"
      ],
      "execution_count": null,
      "outputs": [
        {
          "output_type": "execute_result",
          "data": {
            "text/plain": [
              "4    11422\n",
              "2     9917\n",
              "3     7713\n",
              "1     6624\n",
              "0     5481\n",
              "Name: Sentiment, dtype: int64"
            ]
          },
          "metadata": {},
          "execution_count": 263
        }
      ]
    },
    {
      "cell_type": "code",
      "metadata": {
        "colab": {
          "base_uri": "https://localhost:8080/"
        },
        "id": "qgR50uCIaLim",
        "outputId": "0026e22b-73c3-45fd-f1aa-8b11fd0b1ae5"
      },
      "source": [
        "len(train_df), len(test_df)"
      ],
      "execution_count": null,
      "outputs": [
        {
          "output_type": "execute_result",
          "data": {
            "text/plain": [
              "(41157, 3798)"
            ]
          },
          "metadata": {},
          "execution_count": 161
        }
      ]
    },
    {
      "cell_type": "markdown",
      "metadata": {
        "id": "maAgli5iadN4"
      },
      "source": [
        "## Visualize Random Texts"
      ]
    },
    {
      "cell_type": "code",
      "metadata": {
        "colab": {
          "base_uri": "https://localhost:8080/"
        },
        "id": "bNHpX-wDakKz",
        "outputId": "570ff329-1858-4b16-99fc-426f2cb1d952"
      },
      "source": [
        "random_index = random.randint(0, len(train_df_shuffled)-5)\n",
        "for row in train_df_shuffled[random_index:random_index+5].itertuples():\n",
        "  _,  _, _, _, _, tweet, sentiment = row\n",
        "  print(f\"The text: \\n {tweet}\")\n",
        "  print(f\"Sentiment: {sentiment}\")\n",
        "  print(\"-----\")"
      ],
      "execution_count": null,
      "outputs": [
        {
          "output_type": "stream",
          "text": [
            "The text: \n",
            " During a time when thousands are stocking up on food and essentials, the shelves at food banks in the Peterborough area seem to be dwindling in supplies. But Kawartha Food Share says there is no need to panic. \r\r\n",
            "https://t.co/AMA9MtXxKy\n",
            "Sentiment: 0\n",
            "-----\n",
            "The text: \n",
            " More than one in four Americans are actively avoiding eating out in restaurants as #coronavirus crisis worsens https://t.co/15uiFxNPWJ @JoannaFantozzi via @NRNonline \r\r\n",
            "@Datassential #coronavirusrestaurants #restaurantnews https://t.co/LpNPnKcKKx\n",
            "Sentiment: 0\n",
            "-----\n",
            "The text: \n",
            " #NHS \r\r\n",
            "How can I help..? Can I buy food bring to nurses ? I heard that,one of nurse after she's been working 48h nonstop....??when she went to buy something to eat in the supermarket it was no food left ?? this make me so sad ?#ukgovernment #coronavirus @BorisJohnson\n",
            "Sentiment: 2\n",
            "-----\n",
            "The text: \n",
            " warning at 32c this morning in Please don t panic buy goods Please to a food bank like if able We re all\n",
            "Sentiment: 4\n",
            "-----\n",
            "The text: \n",
            " You can help the Lagos Food Bank meet the increased demand for food assistance amid the COVID-19 crisis by donating below.\r\r\n",
            "\r\r\n",
            "If you wish to be a part our food relief intervention and preparation, kindly donate via Bank Transfer to\r\r\n",
            "Account Name: LAGOS FOODhttps://t.co/XrwKy2FTi4\n",
            "Sentiment: 1\n",
            "-----\n"
          ],
          "name": "stdout"
        }
      ]
    },
    {
      "cell_type": "markdown",
      "metadata": {
        "id": "gU2_bFpBa4lC"
      },
      "source": [
        "## Data manipulation"
      ]
    },
    {
      "cell_type": "code",
      "metadata": {
        "id": "z-G1SdStcRQl"
      },
      "source": [
        "from sklearn.model_selection import train_test_split\n",
        "train_sent, val_sent, train_labels, val_labels =train_test_split(train_df_shuffled[\"OriginalTweet\"].to_numpy(), \n",
        "                                                                 train_df_shuffled[\"Sentiment\"].to_numpy(), \n",
        "                                                                 test_size = 0.2, \n",
        "                                                                 random_state = 42)"
      ],
      "execution_count": null,
      "outputs": []
    },
    {
      "cell_type": "code",
      "metadata": {
        "colab": {
          "base_uri": "https://localhost:8080/"
        },
        "id": "8jm9tUOIcq6J",
        "outputId": "8298654a-c050-453c-f711-8c6bdd922f45"
      },
      "source": [
        "len(train_sent), len(val_sent)"
      ],
      "execution_count": null,
      "outputs": [
        {
          "output_type": "execute_result",
          "data": {
            "text/plain": [
              "(32925, 8232)"
            ]
          },
          "metadata": {},
          "execution_count": 164
        }
      ]
    },
    {
      "cell_type": "code",
      "metadata": {
        "colab": {
          "base_uri": "https://localhost:8080/"
        },
        "id": "wWMT7MNEcuW3",
        "outputId": "d851e75c-4337-45bf-b725-e204e2343531"
      },
      "source": [
        "len(train_labels), len(val_labels)"
      ],
      "execution_count": null,
      "outputs": [
        {
          "output_type": "execute_result",
          "data": {
            "text/plain": [
              "(32925, 8232)"
            ]
          },
          "metadata": {},
          "execution_count": 165
        }
      ]
    },
    {
      "cell_type": "code",
      "metadata": {
        "id": "lCnsg3CXcxEF"
      },
      "source": [
        "from tensorflow.keras.layers.experimental.preprocessing import TextVectorization \n",
        "text_vectorizer = TextVectorization()"
      ],
      "execution_count": null,
      "outputs": []
    },
    {
      "cell_type": "code",
      "metadata": {
        "colab": {
          "base_uri": "https://localhost:8080/"
        },
        "id": "zF2C25IOe-dX",
        "outputId": "72047081-4e40-402f-98c5-83a345e17524"
      },
      "source": [
        "train_sent[:2]"
      ],
      "execution_count": null,
      "outputs": [
        {
          "output_type": "execute_result",
          "data": {
            "text/plain": [
              "array(['Incidentally assistant on the checkout this morning said shoppers being more sensible now whereas last couple of weeks they went bloody mad they did',\n",
              "       '#coronavirus #scams: What the #FTC is doing \\r\\r\\n#COVID #infosec #CoronaVirusUpdates #Covid_19 #COVID19\\r\\r\\n\\r\\r\\nhttps://t.co/lSFnxmUnpb'],\n",
              "      dtype=object)"
            ]
          },
          "metadata": {},
          "execution_count": 167
        }
      ]
    },
    {
      "cell_type": "code",
      "metadata": {
        "colab": {
          "base_uri": "https://localhost:8080/"
        },
        "id": "JB4rXPeMfd5S",
        "outputId": "40e66191-bc82-4648-b25a-4fc059063ef8"
      },
      "source": [
        "arr = [len(i.split()) for i in train_sent]\n",
        "round(np.sum(arr)/len(arr))"
      ],
      "execution_count": null,
      "outputs": [
        {
          "output_type": "execute_result",
          "data": {
            "text/plain": [
              "31"
            ]
          },
          "metadata": {},
          "execution_count": 168
        }
      ]
    },
    {
      "cell_type": "code",
      "metadata": {
        "id": "A8lg1zykgJ1D"
      },
      "source": [
        "max_vocab_length = 10000\n",
        "max_len = 31\n",
        "text_vectorizer = TextVectorization(max_tokens=max_vocab_length, \n",
        "                                    output_sequence_length =max_len)"
      ],
      "execution_count": null,
      "outputs": []
    },
    {
      "cell_type": "code",
      "metadata": {
        "id": "NCIQxbXkgkiV"
      },
      "source": [
        "text_vectorizer.adapt(train_sent)"
      ],
      "execution_count": null,
      "outputs": []
    },
    {
      "cell_type": "code",
      "metadata": {
        "colab": {
          "base_uri": "https://localhost:8080/"
        },
        "id": "omFYddPeg5pi",
        "outputId": "9c316704-3c1a-4bed-d543-240bb817936d"
      },
      "source": [
        "sample_sentence = \"There's a flood in my street!\"\n",
        "text_vectorizer([sample_sentence])"
      ],
      "execution_count": null,
      "outputs": [
        {
          "output_type": "execute_result",
          "data": {
            "text/plain": [
              "<tf.Tensor: shape=(1, 31), dtype=int64, numpy=\n",
              "array([[ 667,    6, 4258,    7,   38,  926,    0,    0,    0,    0,    0,\n",
              "           0,    0,    0,    0,    0,    0,    0,    0,    0,    0,    0,\n",
              "           0,    0,    0,    0,    0,    0,    0,    0,    0]])>"
            ]
          },
          "metadata": {},
          "execution_count": 171
        }
      ]
    },
    {
      "cell_type": "code",
      "metadata": {
        "colab": {
          "base_uri": "https://localhost:8080/"
        },
        "id": "tu1_5110g-AU",
        "outputId": "064991d5-f663-4bbf-b6b7-3576d315f2ce"
      },
      "source": [
        "rand_sent = random.choice(train_sent)\n",
        "rand_sent, len(rand_sent)"
      ],
      "execution_count": null,
      "outputs": [
        {
          "output_type": "execute_result",
          "data": {
            "text/plain": [
              "('It would be wonderful if as you prepare your family and stock up folks could refrain from panic buying and hoarding extras This goes a long way to ensure there is enough food for everyone',\n",
              " 187)"
            ]
          },
          "metadata": {},
          "execution_count": 172
        }
      ]
    },
    {
      "cell_type": "code",
      "metadata": {
        "colab": {
          "base_uri": "https://localhost:8080/"
        },
        "id": "wA7ImHLFhVNa",
        "outputId": "453e6373-eb78-47a1-f24e-d52fa5d5cb09"
      },
      "source": [
        "text_vectorizer([rand_sent])"
      ],
      "execution_count": null,
      "outputs": [
        {
          "output_type": "execute_result",
          "data": {
            "text/plain": [
              "<tf.Tensor: shape=(1, 31), dtype=int64, numpy=\n",
              "array([[  29,  141,   28, 2546,   50,   27,   14, 1222,   34,  278,    4,\n",
              "          85,   43,  733,  144, 4781,   31,   69,   95,    4,  292, 8559,\n",
              "          17,  746,    6,  252,  172,    3,  555,   82,   11]])>"
            ]
          },
          "metadata": {},
          "execution_count": 173
        }
      ]
    },
    {
      "cell_type": "code",
      "metadata": {
        "colab": {
          "base_uri": "https://localhost:8080/"
        },
        "id": "q5_FA0ffhbIx",
        "outputId": "b7a04f19-ef9e-43b4-84af-d96d71932431"
      },
      "source": [
        "words_in_vocab = text_vectorizer.get_vocabulary()\n",
        "words_in_vocab[:5], words_in_vocab[-5:]"
      ],
      "execution_count": null,
      "outputs": [
        {
          "output_type": "execute_result",
          "data": {
            "text/plain": [
              "(['', '[UNK]', 'the', 'to', 'and'],\n",
              " ['adexchanger', 'adaptation', 'acquiring', 'acknowledge', 'acid'])"
            ]
          },
          "metadata": {},
          "execution_count": 174
        }
      ]
    },
    {
      "cell_type": "code",
      "metadata": {
        "colab": {
          "base_uri": "https://localhost:8080/"
        },
        "id": "3cWOJIrOhzO3",
        "outputId": "76fefd77-0d17-45d6-df8d-c863671029b2"
      },
      "source": [
        "len(words_in_vocab)"
      ],
      "execution_count": null,
      "outputs": [
        {
          "output_type": "execute_result",
          "data": {
            "text/plain": [
              "10000"
            ]
          },
          "metadata": {},
          "execution_count": 175
        }
      ]
    },
    {
      "cell_type": "code",
      "metadata": {
        "id": "T2LjqvEDh94B"
      },
      "source": [
        "from tensorflow.keras import layers\n",
        "embedding = layers.Embedding(input_dim = len(words_in_vocab), \n",
        "                             output_dim =128, \n",
        "                             input_length = max_len, \n",
        "                             embeddings_initializer = \"uniform\")"
      ],
      "execution_count": null,
      "outputs": []
    },
    {
      "cell_type": "code",
      "metadata": {
        "colab": {
          "base_uri": "https://localhost:8080/"
        },
        "id": "rY96PX1fjoWV",
        "outputId": "71676038-d737-4f6c-e99a-79d7e25c952a"
      },
      "source": [
        "embedding(text_vectorizer([rand_sent]))"
      ],
      "execution_count": null,
      "outputs": [
        {
          "output_type": "execute_result",
          "data": {
            "text/plain": [
              "<tf.Tensor: shape=(1, 31, 128), dtype=float32, numpy=\n",
              "array([[[-4.6221580e-02,  4.1820016e-02, -4.6838153e-02, ...,\n",
              "          2.5758255e-02,  1.6018692e-02,  5.9864633e-03],\n",
              "        [-1.9077683e-02, -2.6180958e-02, -2.5845839e-02, ...,\n",
              "         -2.1403586e-02, -4.6151865e-02,  3.4272578e-02],\n",
              "        [ 1.0225333e-02,  2.9215422e-02, -1.3597906e-02, ...,\n",
              "          4.9495701e-02,  4.2785693e-02, -1.3602007e-02],\n",
              "        ...,\n",
              "        [ 2.9138137e-02, -9.5486641e-05,  1.4468860e-02, ...,\n",
              "         -4.2608883e-02, -4.4569243e-02,  3.6848560e-03],\n",
              "        [ 1.0552466e-02,  3.0727498e-03, -2.3840740e-04, ...,\n",
              "          1.5409138e-02, -4.5953371e-02,  1.3841763e-03],\n",
              "        [-3.0095173e-02, -6.3285343e-03, -3.8970865e-02, ...,\n",
              "          4.7807481e-02, -4.7387958e-02, -4.4168781e-02]]], dtype=float32)>"
            ]
          },
          "metadata": {},
          "execution_count": 177
        }
      ]
    },
    {
      "cell_type": "markdown",
      "metadata": {
        "id": "trOI7z7BjrgV"
      },
      "source": [
        "## Models"
      ]
    },
    {
      "cell_type": "code",
      "metadata": {
        "id": "IOY3ybxFps9m"
      },
      "source": [
        "import datetime\n",
        "def create_tensorboard_callback(dirname, exp_name):\n",
        "  logdir = dirname + \"/\" + exp_name + \"/\" + datetime.datetime.now().strftime(\"%Y%m%d-%H%M%S\")\n",
        "  tens_callback = tf.keras.callbacks.TensorBoard(log_dir=logdir)\n",
        "  return tens_callback\n",
        "SAVE_DIR = \"model_logs\""
      ],
      "execution_count": null,
      "outputs": []
    },
    {
      "cell_type": "code",
      "metadata": {
        "id": "4Bus3x2BkmT2"
      },
      "source": [
        "from sklearn.pipeline import Pipeline\n",
        "from sklearn.naive_bayes import MultinomialNB\n",
        "from sklearn.feature_extraction.text import TfidfVectorizer"
      ],
      "execution_count": null,
      "outputs": []
    },
    {
      "cell_type": "code",
      "metadata": {
        "colab": {
          "base_uri": "https://localhost:8080/"
        },
        "id": "-R15_Vm6k62x",
        "outputId": "d4554e53-9c79-49b6-d023-1a5251904247"
      },
      "source": [
        "model_0 = Pipeline([\n",
        "                    (\"tfidf\",  TfidfVectorizer()), \n",
        "                    (\"clf\",  MultinomialNB())\n",
        "])\n",
        "model_0.fit(train_sent, train_labels)"
      ],
      "execution_count": null,
      "outputs": [
        {
          "output_type": "execute_result",
          "data": {
            "text/plain": [
              "Pipeline(memory=None,\n",
              "         steps=[('tfidf',\n",
              "                 TfidfVectorizer(analyzer='word', binary=False,\n",
              "                                 decode_error='strict',\n",
              "                                 dtype=<class 'numpy.float64'>,\n",
              "                                 encoding='utf-8', input='content',\n",
              "                                 lowercase=True, max_df=1.0, max_features=None,\n",
              "                                 min_df=1, ngram_range=(1, 1), norm='l2',\n",
              "                                 preprocessor=None, smooth_idf=True,\n",
              "                                 stop_words=None, strip_accents=None,\n",
              "                                 sublinear_tf=False,\n",
              "                                 token_pattern='(?u)\\\\b\\\\w\\\\w+\\\\b',\n",
              "                                 tokenizer=None, use_idf=True,\n",
              "                                 vocabulary=None)),\n",
              "                ('clf',\n",
              "                 MultinomialNB(alpha=1.0, class_prior=None, fit_prior=True))],\n",
              "         verbose=False)"
            ]
          },
          "metadata": {},
          "execution_count": 180
        }
      ]
    },
    {
      "cell_type": "code",
      "metadata": {
        "id": "O3datIcilK_R"
      },
      "source": [
        "baseline_score = model_0.score(val_sent, val_labels)"
      ],
      "execution_count": null,
      "outputs": []
    },
    {
      "cell_type": "code",
      "metadata": {
        "colab": {
          "base_uri": "https://localhost:8080/",
          "height": 161
        },
        "id": "IkIem9TGT2Rk",
        "outputId": "c4cd8f9c-d21a-42da-d476-0701987eab50"
      },
      "source": [
        ""
      ],
      "execution_count": null,
      "outputs": [
        {
          "output_type": "error",
          "ename": "AttributeError",
          "evalue": "ignored",
          "traceback": [
            "\u001b[0;31m---------------------------------------------------------------------------\u001b[0m",
            "\u001b[0;31mAttributeError\u001b[0m                            Traceback (most recent call last)",
            "\u001b[0;32m<ipython-input-211-008c3be9370e>\u001b[0m in \u001b[0;36m<module>\u001b[0;34m()\u001b[0m\n\u001b[0;32m----> 1\u001b[0;31m \u001b[0mmodel_0\u001b[0m\u001b[0;34m.\u001b[0m\u001b[0msummary\u001b[0m\u001b[0;34m(\u001b[0m\u001b[0;34m)\u001b[0m\u001b[0;34m\u001b[0m\u001b[0;34m\u001b[0m\u001b[0m\n\u001b[0m",
            "\u001b[0;31mAttributeError\u001b[0m: 'Pipeline' object has no attribute 'summary'"
          ]
        }
      ]
    },
    {
      "cell_type": "code",
      "metadata": {
        "colab": {
          "base_uri": "https://localhost:8080/"
        },
        "id": "eV8A7Vf5lYXZ",
        "outputId": "2bfa89e8-9ca6-48eb-92df-886c1a3520a3"
      },
      "source": [
        "baseline_score"
      ],
      "execution_count": null,
      "outputs": [
        {
          "output_type": "execute_result",
          "data": {
            "text/plain": [
              "0.3554421768707483"
            ]
          },
          "metadata": {},
          "execution_count": 182
        }
      ]
    },
    {
      "cell_type": "code",
      "metadata": {
        "colab": {
          "base_uri": "https://localhost:8080/"
        },
        "id": "_iCvp_0klZiL",
        "outputId": "5f2c1fed-b925-4876-c37c-8c90cb8c1050"
      },
      "source": [
        "basline_preds = model_0.predict(val_sent)\n",
        "basline_preds[:5]"
      ],
      "execution_count": null,
      "outputs": [
        {
          "output_type": "execute_result",
          "data": {
            "text/plain": [
              "array([4, 4, 4, 4, 2])"
            ]
          },
          "metadata": {},
          "execution_count": 183
        }
      ]
    },
    {
      "cell_type": "code",
      "metadata": {
        "id": "CxfVOaPdnVTA"
      },
      "source": [
        "from sklearn.metrics import accuracy_score, precision_recall_fscore_support\n",
        "\n",
        "def calculate_results(y_true, y_pred):\n",
        "  \"\"\"\n",
        "  Calculates model accuracy, precision, recall and f1 score of a binary classification model.\n",
        "\n",
        "  Args:\n",
        "  -----\n",
        "  y_true = true labels in the form of a 1D array\n",
        "  y_pred = predicted labels in the form of a 1D array\n",
        "\n",
        "  Returns a dictionary of accuracy, precision, recall, f1-score.\n",
        "  \"\"\"\n",
        "  # Calculate model accuracy\n",
        "  model_accuracy = accuracy_score(y_true, y_pred) * 100\n",
        "  # Calculate model precision, recall and f1 score using \"weighted\" average\n",
        "  model_precision, model_recall, model_f1, _ = precision_recall_fscore_support(y_true, y_pred, average=\"weighted\")\n",
        "  model_results = {\"accuracy\": model_accuracy,\n",
        "                  \"precision\": model_precision,\n",
        "                  \"recall\": model_recall,\n",
        "                  \"f1\": model_f1}\n",
        "  return model_results"
      ],
      "execution_count": null,
      "outputs": []
    },
    {
      "cell_type": "code",
      "metadata": {
        "colab": {
          "base_uri": "https://localhost:8080/"
        },
        "id": "xunIdpainhfu",
        "outputId": "1841eab6-5dee-4196-8758-a9c6079e1d52"
      },
      "source": [
        "calculate_results(val_labels, basline_preds)"
      ],
      "execution_count": null,
      "outputs": [
        {
          "output_type": "execute_result",
          "data": {
            "text/plain": [
              "{'accuracy': 35.544217687074834,\n",
              " 'f1': 0.250356137992476,\n",
              " 'precision': 0.6264372191583794,\n",
              " 'recall': 0.3554421768707483}"
            ]
          },
          "metadata": {},
          "execution_count": 185
        }
      ]
    },
    {
      "cell_type": "markdown",
      "metadata": {
        "id": "RuB_2gt1nl4c"
      },
      "source": [
        "## Model 1 "
      ]
    },
    {
      "cell_type": "code",
      "metadata": {
        "colab": {
          "base_uri": "https://localhost:8080/"
        },
        "id": "rjrbSESkoIHM",
        "outputId": "a876850a-9ea0-4745-86ad-5a1d792af207"
      },
      "source": [
        "inputs = layers.Input(shape  =(1,), dtype = \"string\")\n",
        "x  = text_vectorizer(inputs)\n",
        "x = embedding(x)\n",
        "x = layers.GlobalMaxPooling1D()(x)\n",
        "outputs = layers.Dense(5, activation=\"softmax\")(x)\n",
        "model_1 = tf.keras.Model(inputs, outputs)\n",
        "model_1.summary()"
      ],
      "execution_count": null,
      "outputs": [
        {
          "output_type": "stream",
          "text": [
            "Model: \"model_4\"\n",
            "_________________________________________________________________\n",
            "Layer (type)                 Output Shape              Param #   \n",
            "=================================================================\n",
            "input_5 (InputLayer)         [(None, 1)]               0         \n",
            "_________________________________________________________________\n",
            "text_vectorization_9 (TextVe (None, 31)                0         \n",
            "_________________________________________________________________\n",
            "embedding_3 (Embedding)      (None, 31, 128)           1280000   \n",
            "_________________________________________________________________\n",
            "global_max_pooling1d_2 (Glob (None, 128)               0         \n",
            "_________________________________________________________________\n",
            "dense_4 (Dense)              (None, 5)                 645       \n",
            "=================================================================\n",
            "Total params: 1,280,645\n",
            "Trainable params: 1,280,645\n",
            "Non-trainable params: 0\n",
            "_________________________________________________________________\n"
          ],
          "name": "stdout"
        }
      ]
    },
    {
      "cell_type": "code",
      "metadata": {
        "id": "BkP27jAmowqT"
      },
      "source": [
        "model_1.compile(loss=tf.keras.losses.sparse_categorical_crossentropy,\n",
        "                optimizer=tf.keras.optimizers.Adam(),\n",
        "                metrics=[\"accuracy\"])"
      ],
      "execution_count": null,
      "outputs": []
    },
    {
      "cell_type": "code",
      "metadata": {
        "colab": {
          "base_uri": "https://localhost:8080/"
        },
        "id": "SxU8L30OpMu-",
        "outputId": "2c474bf6-5350-4f6f-b655-a3ed168118cf"
      },
      "source": [
        "model_1.fit(train_sent, train_labels, \n",
        "            validation_data = (val_sent, val_labels), \n",
        "            epochs = 5, \n",
        "            callbacks = [create_tensorboard_callback(SAVE_DIR, \"model_1_dense\")])"
      ],
      "execution_count": null,
      "outputs": [
        {
          "output_type": "stream",
          "text": [
            "Epoch 1/5\n",
            "1029/1029 [==============================] - 19s 18ms/step - loss: 1.3383 - accuracy: 0.4259 - val_loss: 1.1127 - val_accuracy: 0.5581\n",
            "Epoch 2/5\n",
            "1029/1029 [==============================] - 17s 17ms/step - loss: 0.9720 - accuracy: 0.6334 - val_loss: 0.9629 - val_accuracy: 0.6382\n",
            "Epoch 3/5\n",
            "1029/1029 [==============================] - 17s 17ms/step - loss: 0.7772 - accuracy: 0.7362 - val_loss: 0.9199 - val_accuracy: 0.6589\n",
            "Epoch 4/5\n",
            "1029/1029 [==============================] - 17s 17ms/step - loss: 0.6256 - accuracy: 0.8046 - val_loss: 0.9236 - val_accuracy: 0.6529\n",
            "Epoch 5/5\n",
            "1029/1029 [==============================] - 17s 17ms/step - loss: 0.4946 - accuracy: 0.8584 - val_loss: 0.9536 - val_accuracy: 0.6427\n"
          ],
          "name": "stdout"
        },
        {
          "output_type": "execute_result",
          "data": {
            "text/plain": [
              "<keras.callbacks.History at 0x7f0d5cce2c50>"
            ]
          },
          "metadata": {},
          "execution_count": 188
        }
      ]
    },
    {
      "cell_type": "code",
      "metadata": {
        "colab": {
          "base_uri": "https://localhost:8080/"
        },
        "id": "5HZDc_GFpaZb",
        "outputId": "db0cdc83-2f53-4a19-912a-f8f3bbde5056"
      },
      "source": [
        "model_1_predprobs = model_1.predict(val_sent)\n",
        "model_1_predprobs[:3]"
      ],
      "execution_count": null,
      "outputs": [
        {
          "output_type": "execute_result",
          "data": {
            "text/plain": [
              "array([[5.8511055e-01, 1.6451550e-03, 2.8116843e-01, 9.5223583e-02,\n",
              "        3.6852352e-02],\n",
              "       [5.2329700e-04, 6.5941167e-01, 7.7162101e-03, 1.3480951e-02,\n",
              "        3.1886783e-01],\n",
              "       [5.8211561e-02, 1.6475031e-03, 4.3371624e-01, 2.3488341e-01,\n",
              "        2.7154133e-01]], dtype=float32)"
            ]
          },
          "metadata": {},
          "execution_count": 189
        }
      ]
    },
    {
      "cell_type": "code",
      "metadata": {
        "colab": {
          "base_uri": "https://localhost:8080/"
        },
        "id": "lhnQr82MtrLY",
        "outputId": "da187953-e458-4039-809d-794c0ac60f00"
      },
      "source": [
        "val_labels[:3]"
      ],
      "execution_count": null,
      "outputs": [
        {
          "output_type": "execute_result",
          "data": {
            "text/plain": [
              "array([2, 1, 2])"
            ]
          },
          "metadata": {},
          "execution_count": 190
        }
      ]
    },
    {
      "cell_type": "code",
      "metadata": {
        "id": "OBNVeGxJ4Ua6"
      },
      "source": [
        "model_1_preds = tf.argmax(model_1_predprobs, axis =1)"
      ],
      "execution_count": null,
      "outputs": []
    },
    {
      "cell_type": "code",
      "metadata": {
        "colab": {
          "base_uri": "https://localhost:8080/"
        },
        "id": "KU7M0eCg4bZe",
        "outputId": "6b6d8538-2e7b-4423-d885-731728b6e8c9"
      },
      "source": [
        "model_1_preds"
      ],
      "execution_count": null,
      "outputs": [
        {
          "output_type": "execute_result",
          "data": {
            "text/plain": [
              "<tf.Tensor: shape=(8232,), dtype=int64, numpy=array([0, 1, 2, ..., 2, 0, 2])>"
            ]
          },
          "metadata": {},
          "execution_count": 192
        }
      ]
    },
    {
      "cell_type": "code",
      "metadata": {
        "colab": {
          "base_uri": "https://localhost:8080/"
        },
        "id": "Q6dICVIf4cv-",
        "outputId": "6e9e0f13-aa7b-475e-8551-3e5685a992e1"
      },
      "source": [
        "calculate_results(val_labels, model_1_preds)"
      ],
      "execution_count": null,
      "outputs": [
        {
          "output_type": "execute_result",
          "data": {
            "text/plain": [
              "{'accuracy': 64.27356656948494,\n",
              " 'f1': 0.6423454524708176,\n",
              " 'precision': 0.6448364145430189,\n",
              " 'recall': 0.6427356656948494}"
            ]
          },
          "metadata": {},
          "execution_count": 193
        }
      ]
    },
    {
      "cell_type": "code",
      "metadata": {
        "id": "_pOtPRqE4hMZ"
      },
      "source": [
        "def calc_results_from_model(model):\n",
        "  model_pred_probs = model.predict(val_sent)\n",
        "  model_preds = tf.argmax(model_pred_probs, axis =1)\n",
        "  return calculate_results(model_preds, val_labels)"
      ],
      "execution_count": null,
      "outputs": []
    },
    {
      "cell_type": "code",
      "metadata": {
        "id": "Wyh_tGdN6hRB"
      },
      "source": [
        "model_1_results = calc_results_from_model(model_1)"
      ],
      "execution_count": null,
      "outputs": []
    },
    {
      "cell_type": "code",
      "metadata": {
        "colab": {
          "base_uri": "https://localhost:8080/"
        },
        "id": "sZjSVkik6mLQ",
        "outputId": "e2e66301-141c-499c-b542-a1283f664c2e"
      },
      "source": [
        "model_1_results"
      ],
      "execution_count": null,
      "outputs": [
        {
          "output_type": "execute_result",
          "data": {
            "text/plain": [
              "{'accuracy': 64.27356656948494,\n",
              " 'f1': 0.6431258789188811,\n",
              " 'precision': 0.6461964278553304,\n",
              " 'recall': 0.6427356656948494}"
            ]
          },
          "metadata": {},
          "execution_count": 201
        }
      ]
    },
    {
      "cell_type": "code",
      "metadata": {
        "id": "aFnG7or36xOU"
      },
      "source": [
        "# can try vector visualization too"
      ],
      "execution_count": null,
      "outputs": []
    },
    {
      "cell_type": "markdown",
      "metadata": {
        "id": "XQhTanE78S4h"
      },
      "source": [
        "## LSTM model"
      ]
    },
    {
      "cell_type": "code",
      "metadata": {
        "colab": {
          "base_uri": "https://localhost:8080/"
        },
        "id": "v3cYgrHfQ09w",
        "outputId": "57948ea4-7395-44ea-f8a5-9203c22a1ecd"
      },
      "source": [
        "inputs = layers.Input(shape =(1, ), dtype = \"string\")\n",
        "x = text_vectorizer(inputs)\n",
        "x = embedding(x)\n",
        "x = layers.LSTM(64)(x) # change return seq to true when stacking layers\n",
        "outputs = layers.Dense(5, activation=\"softmax\")(x)\n",
        "model_2  = tf.keras.Model(inputs, outputs)\n",
        "model_2.summary()"
      ],
      "execution_count": null,
      "outputs": [
        {
          "output_type": "stream",
          "text": [
            "Model: \"model_7\"\n",
            "_________________________________________________________________\n",
            "Layer (type)                 Output Shape              Param #   \n",
            "=================================================================\n",
            "input_9 (InputLayer)         [(None, 1)]               0         \n",
            "_________________________________________________________________\n",
            "text_vectorization_9 (TextVe (None, 31)                0         \n",
            "_________________________________________________________________\n",
            "embedding_3 (Embedding)      (None, 31, 128)           1280000   \n",
            "_________________________________________________________________\n",
            "lstm_2 (LSTM)                (None, 64)                49408     \n",
            "_________________________________________________________________\n",
            "dense_7 (Dense)              (None, 5)                 325       \n",
            "=================================================================\n",
            "Total params: 1,329,733\n",
            "Trainable params: 1,329,733\n",
            "Non-trainable params: 0\n",
            "_________________________________________________________________\n"
          ],
          "name": "stdout"
        }
      ]
    },
    {
      "cell_type": "code",
      "metadata": {
        "id": "wTeSE3OcRPgk"
      },
      "source": [
        "model_2.compile(loss=\"sparse_categorical_crossentropy\",\n",
        "                optimizer=tf.keras.optimizers.Adam(),\n",
        "                metrics=[\"accuracy\"])"
      ],
      "execution_count": null,
      "outputs": []
    },
    {
      "cell_type": "code",
      "metadata": {
        "colab": {
          "base_uri": "https://localhost:8080/"
        },
        "id": "DMyDIpAPRkdH",
        "outputId": "50f14fae-5b3e-4d8a-bea2-a54a91bbb093"
      },
      "source": [
        "model_2_history = model_2.fit(train_sent, train_labels, \n",
        "                              validation_data = (val_sent, val_labels), epochs =5,\n",
        "                              callbacks = [create_tensorboard_callback(SAVE_DIR, \"model_2_LSTM\")])"
      ],
      "execution_count": null,
      "outputs": [
        {
          "output_type": "stream",
          "text": [
            "Epoch 1/5\n",
            "1029/1029 [==============================] - 44s 41ms/step - loss: 0.9781 - accuracy: 0.6027 - val_loss: 0.8670 - val_accuracy: 0.6691\n",
            "Epoch 2/5\n",
            "1029/1029 [==============================] - 40s 39ms/step - loss: 0.6752 - accuracy: 0.7559 - val_loss: 0.8654 - val_accuracy: 0.6761\n",
            "Epoch 3/5\n",
            "1029/1029 [==============================] - 40s 39ms/step - loss: 0.5503 - accuracy: 0.8090 - val_loss: 0.9381 - val_accuracy: 0.6673\n",
            "Epoch 4/5\n",
            "1029/1029 [==============================] - 40s 39ms/step - loss: 0.4308 - accuracy: 0.8576 - val_loss: 1.0113 - val_accuracy: 0.6586\n",
            "Epoch 5/5\n",
            "1029/1029 [==============================] - 41s 40ms/step - loss: 0.3199 - accuracy: 0.8955 - val_loss: 1.2030 - val_accuracy: 0.6373\n"
          ],
          "name": "stdout"
        }
      ]
    },
    {
      "cell_type": "code",
      "metadata": {
        "id": "vuZt_aEmRzcb"
      },
      "source": [
        "model_2_results = calc_results_from_model(model_2)"
      ],
      "execution_count": null,
      "outputs": []
    },
    {
      "cell_type": "code",
      "metadata": {
        "colab": {
          "base_uri": "https://localhost:8080/"
        },
        "id": "0Hm8US7iR_gI",
        "outputId": "87aca01b-3448-47f4-f092-90ffc15d119b"
      },
      "source": [
        "model_2_results"
      ],
      "execution_count": null,
      "outputs": [
        {
          "output_type": "execute_result",
          "data": {
            "text/plain": [
              "{'accuracy': 63.72691933916423,\n",
              " 'f1': 0.6358959189951701,\n",
              " 'precision': 0.637226273314714,\n",
              " 'recall': 0.6372691933916423}"
            ]
          },
          "metadata": {},
          "execution_count": 210
        }
      ]
    },
    {
      "cell_type": "markdown",
      "metadata": {
        "id": "ulm6lcheSBNV"
      },
      "source": [
        "## GRU model gated recurrent unit "
      ]
    },
    {
      "cell_type": "code",
      "metadata": {
        "id": "iVillABsUEU0"
      },
      "source": [
        "def compile_and_fit(model,name):\n",
        "  model.compile(loss=\"sparse_categorical_crossentropy\",\n",
        "                optimizer=tf.keras.optimizers.Adam(),\n",
        "                metrics=[\"accuracy\"])\n",
        "  model_history = model.fit(train_sent, train_labels, \n",
        "                              validation_data = (val_sent, val_labels), epochs =5,\n",
        "                              callbacks = [create_tensorboard_callback(SAVE_DIR, name)])"
      ],
      "execution_count": null,
      "outputs": []
    },
    {
      "cell_type": "code",
      "metadata": {
        "id": "ZgcX4MpiTRkH"
      },
      "source": [
        "inputs = layers.Input(shape = (1, ), dtype = \"string\")\n",
        "x = text_vectorizer(inputs)\n",
        "x  =embedding(x)\n",
        "x = layers.GRU(64)(x)\n",
        "outputs = layers.Dense(5, activation=\"softmax\")(x)\n",
        "model_3 = tf.keras.Model(inputs, outputs)\n",
        "model_3.summary()"
      ],
      "execution_count": null,
      "outputs": []
    },
    {
      "cell_type": "code",
      "metadata": {
        "colab": {
          "base_uri": "https://localhost:8080/"
        },
        "id": "9HApJmLAUefy",
        "outputId": "37763662-3391-4890-c421-95b5b4027a70"
      },
      "source": [
        "compile_and_fit(model_3, \"model_3_GRU\")"
      ],
      "execution_count": null,
      "outputs": [
        {
          "output_type": "stream",
          "text": [
            "Epoch 1/5\n",
            "1029/1029 [==============================] - 46s 42ms/step - loss: 0.6526 - accuracy: 0.7573 - val_loss: 1.0978 - val_accuracy: 0.6359\n",
            "Epoch 2/5\n",
            "1029/1029 [==============================] - 41s 39ms/step - loss: 0.3167 - accuracy: 0.8993 - val_loss: 1.2831 - val_accuracy: 0.6290\n",
            "Epoch 3/5\n",
            "1029/1029 [==============================] - 42s 41ms/step - loss: 0.2207 - accuracy: 0.9309 - val_loss: 1.4868 - val_accuracy: 0.6248\n",
            "Epoch 4/5\n",
            "1029/1029 [==============================] - 41s 40ms/step - loss: 0.1622 - accuracy: 0.9508 - val_loss: 1.7147 - val_accuracy: 0.6092\n",
            "Epoch 5/5\n",
            "1029/1029 [==============================] - 41s 39ms/step - loss: 0.1229 - accuracy: 0.9630 - val_loss: 1.9212 - val_accuracy: 0.6048\n"
          ],
          "name": "stdout"
        }
      ]
    },
    {
      "cell_type": "code",
      "metadata": {
        "colab": {
          "base_uri": "https://localhost:8080/"
        },
        "id": "7nCUNOzwUjVZ",
        "outputId": "e3f823f2-257d-466d-c50b-931c266cdfe0"
      },
      "source": [
        "model_3_results = calc_results_from_model(model_3)\n",
        "model_3_results"
      ],
      "execution_count": null,
      "outputs": [
        {
          "output_type": "execute_result",
          "data": {
            "text/plain": [
              "{'accuracy': 60.48347910592808,\n",
              " 'f1': 0.6049357966536043,\n",
              " 'precision': 0.6077361572433394,\n",
              " 'recall': 0.6048347910592808}"
            ]
          },
          "metadata": {},
          "execution_count": 215
        }
      ]
    },
    {
      "cell_type": "markdown",
      "metadata": {
        "id": "ij_hgyCeUw0p"
      },
      "source": [
        "## Bidirectional RNN model"
      ]
    },
    {
      "cell_type": "code",
      "metadata": {
        "id": "Y5KkDhbDU-9V"
      },
      "source": [
        "inputs = layers.Input(shape =(1,), dtype = \"string\")\n",
        "x = text_vectorizer(inputs)\n",
        "x = embedding(x)\n",
        "x = layers.Bidirectional(layers.LSTM(64))(x)\n",
        "outputs = layers.Dense(5, activation =\"softmax\")(x)\n",
        "model_4 = tf.keras.Model(inputs, outputs)\n",
        "model_4.summary()"
      ],
      "execution_count": null,
      "outputs": []
    },
    {
      "cell_type": "code",
      "metadata": {
        "colab": {
          "base_uri": "https://localhost:8080/"
        },
        "id": "KJTe0ROfVq0y",
        "outputId": "be658833-ff3f-494a-f680-070bf747d02e"
      },
      "source": [
        "compile_and_fit(model_4, \"model_4_BidirectionalLSTM\")"
      ],
      "execution_count": null,
      "outputs": [
        {
          "output_type": "stream",
          "text": [
            "Epoch 1/5\n",
            "1029/1029 [==============================] - 69s 64ms/step - loss: 0.5846 - accuracy: 0.7794 - val_loss: 1.2507 - val_accuracy: 0.6104\n",
            "Epoch 2/5\n",
            "1029/1029 [==============================] - 63s 61ms/step - loss: 0.2116 - accuracy: 0.9326 - val_loss: 1.5969 - val_accuracy: 0.6097\n",
            "Epoch 3/5\n",
            "1029/1029 [==============================] - 62s 60ms/step - loss: 0.1250 - accuracy: 0.9629 - val_loss: 1.8969 - val_accuracy: 0.6031\n",
            "Epoch 4/5\n",
            "1029/1029 [==============================] - 64s 63ms/step - loss: 0.0835 - accuracy: 0.9752 - val_loss: 2.1575 - val_accuracy: 0.5982\n",
            "Epoch 5/5\n",
            "1029/1029 [==============================] - 62s 60ms/step - loss: 0.0610 - accuracy: 0.9824 - val_loss: 2.3418 - val_accuracy: 0.5929\n"
          ],
          "name": "stdout"
        }
      ]
    },
    {
      "cell_type": "code",
      "metadata": {
        "colab": {
          "base_uri": "https://localhost:8080/"
        },
        "id": "mYuiECryV3Bx",
        "outputId": "e4d7a3cb-64b2-4fcc-f01f-126c3083a385"
      },
      "source": [
        "model_4_results = calc_results_from_model(model_4)\n",
        "model_4_results"
      ],
      "execution_count": null,
      "outputs": [
        {
          "output_type": "execute_result",
          "data": {
            "text/plain": [
              "{'accuracy': 59.2930029154519,\n",
              " 'f1': 0.5941155065507838,\n",
              " 'precision': 0.5961544158007275,\n",
              " 'recall': 0.592930029154519}"
            ]
          },
          "metadata": {},
          "execution_count": 219
        }
      ]
    },
    {
      "cell_type": "code",
      "metadata": {
        "id": "HYOU8tJoWC1g"
      },
      "source": [
        "inputs = layers.Input(shape =(1,), dtype = \"string\")\n",
        "x = text_vectorizer(inputs)\n",
        "x = embedding(x)\n",
        "x = layers.Bidirectional(layers.GRU(64))(x)\n",
        "x = layers.Dropout(0.4)(x)\n",
        "outputs = layers.Dense(5, activation =\"softmax\")(x)\n",
        "model_5 = tf.keras.Model(inputs, outputs)\n",
        "model_5.summary()"
      ],
      "execution_count": null,
      "outputs": []
    },
    {
      "cell_type": "code",
      "metadata": {
        "colab": {
          "base_uri": "https://localhost:8080/"
        },
        "id": "tfPJGNYGWJtm",
        "outputId": "e363bb2c-9fe6-44e9-cb51-33a05dc5b74c"
      },
      "source": [
        "compile_and_fit(model_5, \"model_5_BidirectionalGRU\")"
      ],
      "execution_count": null,
      "outputs": [
        {
          "output_type": "stream",
          "text": [
            "Epoch 1/5\n",
            "1029/1029 [==============================] - 63s 58ms/step - loss: 0.4523 - accuracy: 0.8314 - val_loss: 1.7731 - val_accuracy: 0.5826\n",
            "Epoch 2/5\n",
            "1029/1029 [==============================] - 58s 57ms/step - loss: 0.0931 - accuracy: 0.9716 - val_loss: 2.3230 - val_accuracy: 0.5869\n",
            "Epoch 3/5\n",
            "1029/1029 [==============================] - 59s 57ms/step - loss: 0.0512 - accuracy: 0.9850 - val_loss: 2.6467 - val_accuracy: 0.5730\n",
            "Epoch 4/5\n",
            "1029/1029 [==============================] - 59s 58ms/step - loss: 0.0397 - accuracy: 0.9879 - val_loss: 2.8376 - val_accuracy: 0.5869\n",
            "Epoch 5/5\n",
            "1029/1029 [==============================] - 59s 57ms/step - loss: 0.0346 - accuracy: 0.9897 - val_loss: 2.9684 - val_accuracy: 0.5856\n"
          ],
          "name": "stdout"
        }
      ]
    },
    {
      "cell_type": "code",
      "metadata": {
        "colab": {
          "base_uri": "https://localhost:8080/"
        },
        "id": "u9umsEikWTDC",
        "outputId": "fef9e7bc-4aad-4025-99de-2d5b6276d862"
      },
      "source": [
        "model_5_results = calc_results_from_model(model_5)\n",
        "model_5_results"
      ],
      "execution_count": null,
      "outputs": [
        {
          "output_type": "execute_result",
          "data": {
            "text/plain": [
              "{'accuracy': 58.56413994169096,\n",
              " 'f1': 0.586135249218072,\n",
              " 'precision': 0.5869308502454179,\n",
              " 'recall': 0.5856413994169096}"
            ]
          },
          "metadata": {},
          "execution_count": 227
        }
      ]
    },
    {
      "cell_type": "markdown",
      "metadata": {
        "id": "4MiyMQFhXBUU"
      },
      "source": [
        "## 1D Conv Model Temporal Convolution "
      ]
    },
    {
      "cell_type": "code",
      "metadata": {
        "colab": {
          "base_uri": "https://localhost:8080/"
        },
        "id": "Bc-pvJq1ZQau",
        "outputId": "a239f726-6bd4-4eb9-8a4e-f01f6d69c282"
      },
      "source": [
        "inputs = layers.Input(shape = (1,), dtype = \"string\")\n",
        "x =text_vectorizer(inputs)\n",
        "x =embedding(x)\n",
        "x = layers.Conv1D(32, 5, activation=\"relu\")(x)\n",
        "x = layers.GlobalMaxPooling1D()(x)\n",
        "outputs = layers.Dense(5, activation = 'softmax')(x)\n",
        "model_6 = tf.keras.Model(inputs, outputs)\n",
        "model_6.summary()"
      ],
      "execution_count": null,
      "outputs": [
        {
          "output_type": "stream",
          "text": [
            "Model: \"model_14\"\n",
            "_________________________________________________________________\n",
            "Layer (type)                 Output Shape              Param #   \n",
            "=================================================================\n",
            "input_17 (InputLayer)        [(None, 1)]               0         \n",
            "_________________________________________________________________\n",
            "text_vectorization_9 (TextVe (None, 31)                0         \n",
            "_________________________________________________________________\n",
            "embedding_3 (Embedding)      (None, 31, 128)           1280000   \n",
            "_________________________________________________________________\n",
            "conv1d_1 (Conv1D)            (None, 27, 32)            20512     \n",
            "_________________________________________________________________\n",
            "global_max_pooling1d_3 (Glob (None, 32)                0         \n",
            "_________________________________________________________________\n",
            "dense_14 (Dense)             (None, 5)                 165       \n",
            "=================================================================\n",
            "Total params: 1,300,677\n",
            "Trainable params: 1,300,677\n",
            "Non-trainable params: 0\n",
            "_________________________________________________________________\n"
          ],
          "name": "stdout"
        }
      ]
    },
    {
      "cell_type": "code",
      "metadata": {
        "colab": {
          "base_uri": "https://localhost:8080/"
        },
        "id": "3Hhr5AkFdFxE",
        "outputId": "0692ab51-dce1-419e-f8a5-61a9db5d4448"
      },
      "source": [
        "compile_and_fit(model_6, \"model_6_Temporal_conv\")"
      ],
      "execution_count": null,
      "outputs": [
        {
          "output_type": "stream",
          "text": [
            "Epoch 1/5\n",
            "1029/1029 [==============================] - 24s 23ms/step - loss: 0.7369 - accuracy: 0.7322 - val_loss: 1.1932 - val_accuracy: 0.5801\n",
            "Epoch 2/5\n",
            "1029/1029 [==============================] - 23s 23ms/step - loss: 0.4488 - accuracy: 0.8492 - val_loss: 1.4433 - val_accuracy: 0.5544\n",
            "Epoch 3/5\n",
            "1029/1029 [==============================] - 22s 22ms/step - loss: 0.2913 - accuracy: 0.9091 - val_loss: 1.6656 - val_accuracy: 0.5627\n",
            "Epoch 4/5\n",
            "1029/1029 [==============================] - 23s 23ms/step - loss: 0.1723 - accuracy: 0.9548 - val_loss: 1.9820 - val_accuracy: 0.5482\n",
            "Epoch 5/5\n",
            "1029/1029 [==============================] - 23s 22ms/step - loss: 0.0901 - accuracy: 0.9814 - val_loss: 2.3581 - val_accuracy: 0.5485\n"
          ],
          "name": "stdout"
        }
      ]
    },
    {
      "cell_type": "code",
      "metadata": {
        "id": "nD_Xm-LydU-h"
      },
      "source": [
        "model_6_results = calc_results_from_model(model_6)"
      ],
      "execution_count": null,
      "outputs": []
    },
    {
      "cell_type": "code",
      "metadata": {
        "colab": {
          "base_uri": "https://localhost:8080/"
        },
        "id": "gKLIe9oHdbzc",
        "outputId": "371414ed-450f-4964-9de0-4846323f70d9"
      },
      "source": [
        "model_6_results"
      ],
      "execution_count": null,
      "outputs": [
        {
          "output_type": "execute_result",
          "data": {
            "text/plain": [
              "{'accuracy': 54.8469387755102,\n",
              " 'f1': 0.5506072676009579,\n",
              " 'precision': 0.5551906492521282,\n",
              " 'recall': 0.548469387755102}"
            ]
          },
          "metadata": {},
          "execution_count": 232
        }
      ]
    },
    {
      "cell_type": "markdown",
      "metadata": {
        "id": "3fdjmgu-ddSO"
      },
      "source": [
        "## Transfer Learning USE"
      ]
    },
    {
      "cell_type": "code",
      "metadata": {
        "id": "O7S658fJeOoO"
      },
      "source": [
        "import tensorflow_hub as hub"
      ],
      "execution_count": null,
      "outputs": []
    },
    {
      "cell_type": "code",
      "metadata": {
        "id": "kszyb_0MeI_A"
      },
      "source": [
        "sentence_encoder_layer = hub.KerasLayer(\"https://tfhub.dev/google/universal-sentence-encoder/4\",\n",
        "                                        input_shape =[],\n",
        "                                        dtype = tf.string,\n",
        "                                        trainable= False,\n",
        "                                        name = \"use\")"
      ],
      "execution_count": null,
      "outputs": []
    },
    {
      "cell_type": "code",
      "metadata": {
        "colab": {
          "base_uri": "https://localhost:8080/"
        },
        "id": "Zkx--yUOebYn",
        "outputId": "ca78400b-1981-4238-e7b9-a78355ba2edd"
      },
      "source": [
        "model_7 = tf.keras.Sequential([\n",
        "                               #layers.Input(shape = (1,), dtype = \"string\"),\n",
        "                               sentence_encoder_layer,\n",
        "                               #layers.Dense(1024, activation= \"relu\"),\n",
        "                               layers.Dense(64, activation= \"relu\"),\n",
        "                               layers.Dense(5, activation=\"softmax\")\n",
        "])\n",
        "compile_and_fit(model_7, \"model_7_USE\")"
      ],
      "execution_count": null,
      "outputs": [
        {
          "output_type": "stream",
          "text": [
            "Epoch 1/5\n",
            "1029/1029 [==============================] - 83s 24ms/step - loss: 1.2552 - accuracy: 0.4539 - val_loss: 1.1897 - val_accuracy: 0.4821\n",
            "Epoch 2/5\n",
            "1029/1029 [==============================] - 30s 29ms/step - loss: 1.1635 - accuracy: 0.5019 - val_loss: 1.1730 - val_accuracy: 0.4911\n",
            "Epoch 3/5\n",
            "1029/1029 [==============================] - 24s 23ms/step - loss: 1.0800 - accuracy: 0.5446 - val_loss: 1.1762 - val_accuracy: 0.4982\n",
            "Epoch 4/5\n",
            "1029/1029 [==============================] - 22s 21ms/step - loss: 0.9615 - accuracy: 0.6072 - val_loss: 1.2293 - val_accuracy: 0.4949\n",
            "Epoch 5/5\n",
            "1029/1029 [==============================] - 22s 21ms/step - loss: 0.8102 - accuracy: 0.6797 - val_loss: 1.3089 - val_accuracy: 0.4776\n"
          ],
          "name": "stdout"
        }
      ]
    },
    {
      "cell_type": "code",
      "metadata": {
        "colab": {
          "base_uri": "https://localhost:8080/"
        },
        "id": "r7ElAAYUe3J1",
        "outputId": "311c5b99-2754-45d7-9030-0cec85dd76d1"
      },
      "source": [
        "model_7_results = calc_results_from_model(model_7)\n",
        "model_7_results"
      ],
      "execution_count": null,
      "outputs": [
        {
          "output_type": "execute_result",
          "data": {
            "text/plain": [
              "{'accuracy': 47.76482021379981,\n",
              " 'f1': 0.4796995799010443,\n",
              " 'precision': 0.4847662596975694,\n",
              " 'recall': 0.4776482021379981}"
            ]
          },
          "metadata": {},
          "execution_count": 243
        }
      ]
    },
    {
      "cell_type": "code",
      "metadata": {
        "colab": {
          "base_uri": "https://localhost:8080/",
          "height": 202
        },
        "id": "4_pu04Urfxuy",
        "outputId": "7b77de71-d67e-4c92-cd51-2f89ee3fea8a"
      },
      "source": [
        "val_df = pd.DataFrame({\"text\": val_sent,\n",
        "                       \"target\": val_labels,\n",
        "                       \"pred\": model_1_preds,\n",
        "                       \"pred_prob\": tf.squeeze(model_1_predprobs)})\n",
        "val_df.head()"
      ],
      "execution_count": null,
      "outputs": [
        {
          "output_type": "execute_result",
          "data": {
            "text/html": [
              "<div>\n",
              "<style scoped>\n",
              "    .dataframe tbody tr th:only-of-type {\n",
              "        vertical-align: middle;\n",
              "    }\n",
              "\n",
              "    .dataframe tbody tr th {\n",
              "        vertical-align: top;\n",
              "    }\n",
              "\n",
              "    .dataframe thead th {\n",
              "        text-align: right;\n",
              "    }\n",
              "</style>\n",
              "<table border=\"1\" class=\"dataframe\">\n",
              "  <thead>\n",
              "    <tr style=\"text-align: right;\">\n",
              "      <th></th>\n",
              "      <th>text</th>\n",
              "      <th>target</th>\n",
              "      <th>pred</th>\n",
              "      <th>pred_prob</th>\n",
              "    </tr>\n",
              "  </thead>\n",
              "  <tbody>\n",
              "    <tr>\n",
              "      <th>0</th>\n",
              "      <td>This is the latest corona challenge.Anyone w...</td>\n",
              "      <td>2</td>\n",
              "      <td>0</td>\n",
              "      <td>(tf.Tensor(0.58511055, shape=(), dtype=float32...</td>\n",
              "    </tr>\n",
              "    <tr>\n",
              "      <th>1</th>\n",
              "      <td>Cheers buddy! Just had lunch at 2.50am, as wor...</td>\n",
              "      <td>1</td>\n",
              "      <td>1</td>\n",
              "      <td>(tf.Tensor(0.000523297, shape=(), dtype=float3...</td>\n",
              "    </tr>\n",
              "    <tr>\n",
              "      <th>2</th>\n",
              "      <td>Mask = 2020 Essential?\\r\\r\\nWashable Mask = Re...</td>\n",
              "      <td>2</td>\n",
              "      <td>2</td>\n",
              "      <td>(tf.Tensor(0.05821156, shape=(), dtype=float32...</td>\n",
              "    </tr>\n",
              "    <tr>\n",
              "      <th>3</th>\n",
              "      <td>Although nobody truly knows what the world wil...</td>\n",
              "      <td>1</td>\n",
              "      <td>1</td>\n",
              "      <td>(tf.Tensor(2.669141e-05, shape=(), dtype=float...</td>\n",
              "    </tr>\n",
              "    <tr>\n",
              "      <th>4</th>\n",
              "      <td>Insane despicable profiting from misery The ma...</td>\n",
              "      <td>2</td>\n",
              "      <td>2</td>\n",
              "      <td>(tf.Tensor(0.03669692, shape=(), dtype=float32...</td>\n",
              "    </tr>\n",
              "  </tbody>\n",
              "</table>\n",
              "</div>"
            ],
            "text/plain": [
              "                                                text  ...                                          pred_prob\n",
              "0  This is the latest corona challenge.Anyone w...  ...  (tf.Tensor(0.58511055, shape=(), dtype=float32...\n",
              "1  Cheers buddy! Just had lunch at 2.50am, as wor...  ...  (tf.Tensor(0.000523297, shape=(), dtype=float3...\n",
              "2  Mask = 2020 Essential?\\r\\r\\nWashable Mask = Re...  ...  (tf.Tensor(0.05821156, shape=(), dtype=float32...\n",
              "3  Although nobody truly knows what the world wil...  ...  (tf.Tensor(2.669141e-05, shape=(), dtype=float...\n",
              "4  Insane despicable profiting from misery The ma...  ...  (tf.Tensor(0.03669692, shape=(), dtype=float32...\n",
              "\n",
              "[5 rows x 4 columns]"
            ]
          },
          "metadata": {},
          "execution_count": 253
        }
      ]
    },
    {
      "cell_type": "code",
      "metadata": {
        "id": "K9OjSYqquCBN"
      },
      "source": [
        "pred_class = tf.argmax(model_1.predict([\"#Beirut declared a “devastated city”, two-week state of emergency officially declared. #Lebanon\"]), axis =1)"
      ],
      "execution_count": null,
      "outputs": []
    },
    {
      "cell_type": "code",
      "metadata": {
        "colab": {
          "base_uri": "https://localhost:8080/"
        },
        "id": "fSEziQRyuKfC",
        "outputId": "f3bc26cd-a83c-4f86-fd4a-f2f293631800"
      },
      "source": [
        "pred_class"
      ],
      "execution_count": null,
      "outputs": [
        {
          "output_type": "execute_result",
          "data": {
            "text/plain": [
              "<tf.Tensor: shape=(1,), dtype=int64, numpy=array([0])>"
            ]
          },
          "metadata": {},
          "execution_count": 259
        }
      ]
    },
    {
      "cell_type": "markdown",
      "metadata": {
        "id": "XZmsZrADuMCD"
      },
      "source": [
        "## One Hot encoded Trials"
      ]
    },
    {
      "cell_type": "code",
      "metadata": {
        "colab": {
          "base_uri": "https://localhost:8080/",
          "height": 202
        },
        "id": "1CSFatH9xD94",
        "outputId": "0f873fa7-85ca-4f50-a42c-46d694009274"
      },
      "source": [
        "train_df_shuffled.head()"
      ],
      "execution_count": null,
      "outputs": [
        {
          "output_type": "execute_result",
          "data": {
            "text/html": [
              "<div>\n",
              "<style scoped>\n",
              "    .dataframe tbody tr th:only-of-type {\n",
              "        vertical-align: middle;\n",
              "    }\n",
              "\n",
              "    .dataframe tbody tr th {\n",
              "        vertical-align: top;\n",
              "    }\n",
              "\n",
              "    .dataframe thead th {\n",
              "        text-align: right;\n",
              "    }\n",
              "</style>\n",
              "<table border=\"1\" class=\"dataframe\">\n",
              "  <thead>\n",
              "    <tr style=\"text-align: right;\">\n",
              "      <th></th>\n",
              "      <th>UserName</th>\n",
              "      <th>ScreenName</th>\n",
              "      <th>Location</th>\n",
              "      <th>TweetAt</th>\n",
              "      <th>OriginalTweet</th>\n",
              "      <th>Sentiment</th>\n",
              "    </tr>\n",
              "  </thead>\n",
              "  <tbody>\n",
              "    <tr>\n",
              "      <th>31089</th>\n",
              "      <td>34888</td>\n",
              "      <td>79840</td>\n",
              "      <td>Lagos</td>\n",
              "      <td>06-04-2020</td>\n",
              "      <td>Without the there would not be any problem wh...</td>\n",
              "      <td>Neutral</td>\n",
              "    </tr>\n",
              "    <tr>\n",
              "      <th>35564</th>\n",
              "      <td>39363</td>\n",
              "      <td>84315</td>\n",
              "      <td>NaN</td>\n",
              "      <td>09-04-2020</td>\n",
              "      <td>Rice &amp;amp; wheat prices surge amid fears Covid...</td>\n",
              "      <td>Extremely Negative</td>\n",
              "    </tr>\n",
              "    <tr>\n",
              "      <th>144</th>\n",
              "      <td>3943</td>\n",
              "      <td>48895</td>\n",
              "      <td>NaN</td>\n",
              "      <td>16-03-2020</td>\n",
              "      <td>When the government says to start social dista...</td>\n",
              "      <td>Positive</td>\n",
              "    </tr>\n",
              "    <tr>\n",
              "      <th>8202</th>\n",
              "      <td>12001</td>\n",
              "      <td>56953</td>\n",
              "      <td>irlande du nord</td>\n",
              "      <td>19-03-2020</td>\n",
              "      <td>What the shops are doing is obeying the law of...</td>\n",
              "      <td>Positive</td>\n",
              "    </tr>\n",
              "    <tr>\n",
              "      <th>31720</th>\n",
              "      <td>35519</td>\n",
              "      <td>80471</td>\n",
              "      <td>Zaria, Nigeria</td>\n",
              "      <td>07-04-2020</td>\n",
              "      <td>Kaduna State Task Force on Covid 19 led by the...</td>\n",
              "      <td>Negative</td>\n",
              "    </tr>\n",
              "  </tbody>\n",
              "</table>\n",
              "</div>"
            ],
            "text/plain": [
              "       UserName  ...           Sentiment\n",
              "31089     34888  ...             Neutral\n",
              "35564     39363  ...  Extremely Negative\n",
              "144        3943  ...            Positive\n",
              "8202      12001  ...            Positive\n",
              "31720     35519  ...            Negative\n",
              "\n",
              "[5 rows x 6 columns]"
            ]
          },
          "metadata": {},
          "execution_count": 265
        }
      ]
    },
    {
      "cell_type": "code",
      "metadata": {
        "colab": {
          "base_uri": "https://localhost:8080/",
          "height": 202
        },
        "id": "sAbKpOxvxFzp",
        "outputId": "3161e5a8-7326-4eba-b0af-f715c0784966"
      },
      "source": [
        "train_df_onehot_labels = pd.get_dummies(train_df_shuffled[\"Sentiment\"])\n",
        "train_df_onehot_labels.head()"
      ],
      "execution_count": null,
      "outputs": [
        {
          "output_type": "execute_result",
          "data": {
            "text/html": [
              "<div>\n",
              "<style scoped>\n",
              "    .dataframe tbody tr th:only-of-type {\n",
              "        vertical-align: middle;\n",
              "    }\n",
              "\n",
              "    .dataframe tbody tr th {\n",
              "        vertical-align: top;\n",
              "    }\n",
              "\n",
              "    .dataframe thead th {\n",
              "        text-align: right;\n",
              "    }\n",
              "</style>\n",
              "<table border=\"1\" class=\"dataframe\">\n",
              "  <thead>\n",
              "    <tr style=\"text-align: right;\">\n",
              "      <th></th>\n",
              "      <th>Extremely Negative</th>\n",
              "      <th>Extremely Positive</th>\n",
              "      <th>Negative</th>\n",
              "      <th>Neutral</th>\n",
              "      <th>Positive</th>\n",
              "    </tr>\n",
              "  </thead>\n",
              "  <tbody>\n",
              "    <tr>\n",
              "      <th>31089</th>\n",
              "      <td>0</td>\n",
              "      <td>0</td>\n",
              "      <td>0</td>\n",
              "      <td>1</td>\n",
              "      <td>0</td>\n",
              "    </tr>\n",
              "    <tr>\n",
              "      <th>35564</th>\n",
              "      <td>1</td>\n",
              "      <td>0</td>\n",
              "      <td>0</td>\n",
              "      <td>0</td>\n",
              "      <td>0</td>\n",
              "    </tr>\n",
              "    <tr>\n",
              "      <th>144</th>\n",
              "      <td>0</td>\n",
              "      <td>0</td>\n",
              "      <td>0</td>\n",
              "      <td>0</td>\n",
              "      <td>1</td>\n",
              "    </tr>\n",
              "    <tr>\n",
              "      <th>8202</th>\n",
              "      <td>0</td>\n",
              "      <td>0</td>\n",
              "      <td>0</td>\n",
              "      <td>0</td>\n",
              "      <td>1</td>\n",
              "    </tr>\n",
              "    <tr>\n",
              "      <th>31720</th>\n",
              "      <td>0</td>\n",
              "      <td>0</td>\n",
              "      <td>1</td>\n",
              "      <td>0</td>\n",
              "      <td>0</td>\n",
              "    </tr>\n",
              "  </tbody>\n",
              "</table>\n",
              "</div>"
            ],
            "text/plain": [
              "       Extremely Negative  Extremely Positive  Negative  Neutral  Positive\n",
              "31089                   0                   0         0        1         0\n",
              "35564                   1                   0         0        0         0\n",
              "144                     0                   0         0        0         1\n",
              "8202                    0                   0         0        0         1\n",
              "31720                   0                   0         1        0         0"
            ]
          },
          "metadata": {},
          "execution_count": 269
        }
      ]
    },
    {
      "cell_type": "code",
      "metadata": {
        "colab": {
          "base_uri": "https://localhost:8080/"
        },
        "id": "3GOiJVQgxM6q",
        "outputId": "446ea8f9-2308-4744-8418-4ecb03527c4f"
      },
      "source": [
        "train_df_onehot_labels.to_numpy()"
      ],
      "execution_count": null,
      "outputs": [
        {
          "output_type": "execute_result",
          "data": {
            "text/plain": [
              "array([[0, 0, 0, 1, 0],\n",
              "       [1, 0, 0, 0, 0],\n",
              "       [0, 0, 0, 0, 1],\n",
              "       ...,\n",
              "       [1, 0, 0, 0, 0],\n",
              "       [0, 0, 0, 1, 0],\n",
              "       [1, 0, 0, 0, 0]], dtype=uint8)"
            ]
          },
          "metadata": {},
          "execution_count": 271
        }
      ]
    },
    {
      "cell_type": "code",
      "metadata": {
        "id": "4vUpSn8rxm0K"
      },
      "source": [
        "train_sent, val_sent, train_labels_oh, val_labels_oh =train_test_split(train_df_shuffled[\"OriginalTweet\"].to_numpy(), \n",
        "                                                                 train_df_onehot_labels.to_numpy(), \n",
        "                                                                 test_size = 0.2, \n",
        "                                                                 random_state = 42)"
      ],
      "execution_count": null,
      "outputs": []
    },
    {
      "cell_type": "code",
      "metadata": {
        "id": "BvK2fnufxzgI"
      },
      "source": [
        "model_1_oh = tf.keras.models.clone_model(model_1)"
      ],
      "execution_count": null,
      "outputs": []
    },
    {
      "cell_type": "code",
      "metadata": {
        "id": "0Re4KNiHxzgJ"
      },
      "source": [
        "model_1_oh.compile(loss=tf.keras.losses.categorical_crossentropy,\n",
        "                optimizer=tf.keras.optimizers.Adam(),\n",
        "                metrics=[\"accuracy\"])"
      ],
      "execution_count": null,
      "outputs": []
    },
    {
      "cell_type": "code",
      "metadata": {
        "colab": {
          "base_uri": "https://localhost:8080/",
          "height": 436
        },
        "id": "_o1LFwUVxzgK",
        "outputId": "f2674a12-91d0-4398-eaed-cccde798415b"
      },
      "source": [
        "model_1_oh.fit(train_sent, train_labels_oh, \n",
        "            validation_data = (val_sent, val_labels_oh), \n",
        "            epochs = 5, \n",
        "            callbacks = [create_tensorboard_callback(SAVE_DIR, \"model_1_oh_dense\")])"
      ],
      "execution_count": null,
      "outputs": [
        {
          "output_type": "stream",
          "text": [
            "Epoch 1/5\n"
          ],
          "name": "stdout"
        },
        {
          "output_type": "error",
          "ename": "FailedPreconditionError",
          "evalue": "ignored",
          "traceback": [
            "\u001b[0;31m---------------------------------------------------------------------------\u001b[0m",
            "\u001b[0;31mFailedPreconditionError\u001b[0m                   Traceback (most recent call last)",
            "\u001b[0;32m<ipython-input-282-1e62dc682134>\u001b[0m in \u001b[0;36m<module>\u001b[0;34m()\u001b[0m\n\u001b[1;32m      2\u001b[0m             \u001b[0mvalidation_data\u001b[0m \u001b[0;34m=\u001b[0m \u001b[0;34m(\u001b[0m\u001b[0mval_sent\u001b[0m\u001b[0;34m,\u001b[0m \u001b[0mval_labels_oh\u001b[0m\u001b[0;34m)\u001b[0m\u001b[0;34m,\u001b[0m\u001b[0;34m\u001b[0m\u001b[0;34m\u001b[0m\u001b[0m\n\u001b[1;32m      3\u001b[0m             \u001b[0mepochs\u001b[0m \u001b[0;34m=\u001b[0m \u001b[0;36m5\u001b[0m\u001b[0;34m,\u001b[0m\u001b[0;34m\u001b[0m\u001b[0;34m\u001b[0m\u001b[0m\n\u001b[0;32m----> 4\u001b[0;31m             callbacks = [create_tensorboard_callback(SAVE_DIR, \"model_1_oh_dense\")])\n\u001b[0m",
            "\u001b[0;32m/usr/local/lib/python3.7/dist-packages/keras/engine/training.py\u001b[0m in \u001b[0;36mfit\u001b[0;34m(self, x, y, batch_size, epochs, verbose, callbacks, validation_split, validation_data, shuffle, class_weight, sample_weight, initial_epoch, steps_per_epoch, validation_steps, validation_batch_size, validation_freq, max_queue_size, workers, use_multiprocessing)\u001b[0m\n\u001b[1;32m   1182\u001b[0m                 _r=1):\n\u001b[1;32m   1183\u001b[0m               \u001b[0mcallbacks\u001b[0m\u001b[0;34m.\u001b[0m\u001b[0mon_train_batch_begin\u001b[0m\u001b[0;34m(\u001b[0m\u001b[0mstep\u001b[0m\u001b[0;34m)\u001b[0m\u001b[0;34m\u001b[0m\u001b[0;34m\u001b[0m\u001b[0m\n\u001b[0;32m-> 1184\u001b[0;31m               \u001b[0mtmp_logs\u001b[0m \u001b[0;34m=\u001b[0m \u001b[0mself\u001b[0m\u001b[0;34m.\u001b[0m\u001b[0mtrain_function\u001b[0m\u001b[0;34m(\u001b[0m\u001b[0miterator\u001b[0m\u001b[0;34m)\u001b[0m\u001b[0;34m\u001b[0m\u001b[0;34m\u001b[0m\u001b[0m\n\u001b[0m\u001b[1;32m   1185\u001b[0m               \u001b[0;32mif\u001b[0m \u001b[0mdata_handler\u001b[0m\u001b[0;34m.\u001b[0m\u001b[0mshould_sync\u001b[0m\u001b[0;34m:\u001b[0m\u001b[0;34m\u001b[0m\u001b[0;34m\u001b[0m\u001b[0m\n\u001b[1;32m   1186\u001b[0m                 \u001b[0mcontext\u001b[0m\u001b[0;34m.\u001b[0m\u001b[0masync_wait\u001b[0m\u001b[0;34m(\u001b[0m\u001b[0;34m)\u001b[0m\u001b[0;34m\u001b[0m\u001b[0;34m\u001b[0m\u001b[0m\n",
            "\u001b[0;32m/usr/local/lib/python3.7/dist-packages/tensorflow/python/eager/def_function.py\u001b[0m in \u001b[0;36m__call__\u001b[0;34m(self, *args, **kwds)\u001b[0m\n\u001b[1;32m    883\u001b[0m \u001b[0;34m\u001b[0m\u001b[0m\n\u001b[1;32m    884\u001b[0m       \u001b[0;32mwith\u001b[0m \u001b[0mOptionalXlaContext\u001b[0m\u001b[0;34m(\u001b[0m\u001b[0mself\u001b[0m\u001b[0;34m.\u001b[0m\u001b[0m_jit_compile\u001b[0m\u001b[0;34m)\u001b[0m\u001b[0;34m:\u001b[0m\u001b[0;34m\u001b[0m\u001b[0;34m\u001b[0m\u001b[0m\n\u001b[0;32m--> 885\u001b[0;31m         \u001b[0mresult\u001b[0m \u001b[0;34m=\u001b[0m \u001b[0mself\u001b[0m\u001b[0;34m.\u001b[0m\u001b[0m_call\u001b[0m\u001b[0;34m(\u001b[0m\u001b[0;34m*\u001b[0m\u001b[0margs\u001b[0m\u001b[0;34m,\u001b[0m \u001b[0;34m**\u001b[0m\u001b[0mkwds\u001b[0m\u001b[0;34m)\u001b[0m\u001b[0;34m\u001b[0m\u001b[0;34m\u001b[0m\u001b[0m\n\u001b[0m\u001b[1;32m    886\u001b[0m \u001b[0;34m\u001b[0m\u001b[0m\n\u001b[1;32m    887\u001b[0m       \u001b[0mnew_tracing_count\u001b[0m \u001b[0;34m=\u001b[0m \u001b[0mself\u001b[0m\u001b[0;34m.\u001b[0m\u001b[0mexperimental_get_tracing_count\u001b[0m\u001b[0;34m(\u001b[0m\u001b[0;34m)\u001b[0m\u001b[0;34m\u001b[0m\u001b[0;34m\u001b[0m\u001b[0m\n",
            "\u001b[0;32m/usr/local/lib/python3.7/dist-packages/tensorflow/python/eager/def_function.py\u001b[0m in \u001b[0;36m_call\u001b[0;34m(self, *args, **kwds)\u001b[0m\n\u001b[1;32m    915\u001b[0m       \u001b[0;31m# In this case we have created variables on the first call, so we run the\u001b[0m\u001b[0;34m\u001b[0m\u001b[0;34m\u001b[0m\u001b[0;34m\u001b[0m\u001b[0m\n\u001b[1;32m    916\u001b[0m       \u001b[0;31m# defunned version which is guaranteed to never create variables.\u001b[0m\u001b[0;34m\u001b[0m\u001b[0;34m\u001b[0m\u001b[0;34m\u001b[0m\u001b[0m\n\u001b[0;32m--> 917\u001b[0;31m       \u001b[0;32mreturn\u001b[0m \u001b[0mself\u001b[0m\u001b[0;34m.\u001b[0m\u001b[0m_stateless_fn\u001b[0m\u001b[0;34m(\u001b[0m\u001b[0;34m*\u001b[0m\u001b[0margs\u001b[0m\u001b[0;34m,\u001b[0m \u001b[0;34m**\u001b[0m\u001b[0mkwds\u001b[0m\u001b[0;34m)\u001b[0m  \u001b[0;31m# pylint: disable=not-callable\u001b[0m\u001b[0;34m\u001b[0m\u001b[0;34m\u001b[0m\u001b[0m\n\u001b[0m\u001b[1;32m    918\u001b[0m     \u001b[0;32melif\u001b[0m \u001b[0mself\u001b[0m\u001b[0;34m.\u001b[0m\u001b[0m_stateful_fn\u001b[0m \u001b[0;32mis\u001b[0m \u001b[0;32mnot\u001b[0m \u001b[0;32mNone\u001b[0m\u001b[0;34m:\u001b[0m\u001b[0;34m\u001b[0m\u001b[0;34m\u001b[0m\u001b[0m\n\u001b[1;32m    919\u001b[0m       \u001b[0;31m# Release the lock early so that multiple threads can perform the call\u001b[0m\u001b[0;34m\u001b[0m\u001b[0;34m\u001b[0m\u001b[0;34m\u001b[0m\u001b[0m\n",
            "\u001b[0;32m/usr/local/lib/python3.7/dist-packages/tensorflow/python/eager/function.py\u001b[0m in \u001b[0;36m__call__\u001b[0;34m(self, *args, **kwargs)\u001b[0m\n\u001b[1;32m   3038\u001b[0m        filtered_flat_args) = self._maybe_define_function(args, kwargs)\n\u001b[1;32m   3039\u001b[0m     return graph_function._call_flat(\n\u001b[0;32m-> 3040\u001b[0;31m         filtered_flat_args, captured_inputs=graph_function.captured_inputs)  # pylint: disable=protected-access\n\u001b[0m\u001b[1;32m   3041\u001b[0m \u001b[0;34m\u001b[0m\u001b[0m\n\u001b[1;32m   3042\u001b[0m   \u001b[0;34m@\u001b[0m\u001b[0mproperty\u001b[0m\u001b[0;34m\u001b[0m\u001b[0;34m\u001b[0m\u001b[0m\n",
            "\u001b[0;32m/usr/local/lib/python3.7/dist-packages/tensorflow/python/eager/function.py\u001b[0m in \u001b[0;36m_call_flat\u001b[0;34m(self, args, captured_inputs, cancellation_manager)\u001b[0m\n\u001b[1;32m   1962\u001b[0m       \u001b[0;31m# No tape is watching; skip to running the function.\u001b[0m\u001b[0;34m\u001b[0m\u001b[0;34m\u001b[0m\u001b[0;34m\u001b[0m\u001b[0m\n\u001b[1;32m   1963\u001b[0m       return self._build_call_outputs(self._inference_function.call(\n\u001b[0;32m-> 1964\u001b[0;31m           ctx, args, cancellation_manager=cancellation_manager))\n\u001b[0m\u001b[1;32m   1965\u001b[0m     forward_backward = self._select_forward_and_backward_functions(\n\u001b[1;32m   1966\u001b[0m         \u001b[0margs\u001b[0m\u001b[0;34m,\u001b[0m\u001b[0;34m\u001b[0m\u001b[0;34m\u001b[0m\u001b[0m\n",
            "\u001b[0;32m/usr/local/lib/python3.7/dist-packages/tensorflow/python/eager/function.py\u001b[0m in \u001b[0;36mcall\u001b[0;34m(self, ctx, args, cancellation_manager)\u001b[0m\n\u001b[1;32m    594\u001b[0m               \u001b[0minputs\u001b[0m\u001b[0;34m=\u001b[0m\u001b[0margs\u001b[0m\u001b[0;34m,\u001b[0m\u001b[0;34m\u001b[0m\u001b[0;34m\u001b[0m\u001b[0m\n\u001b[1;32m    595\u001b[0m               \u001b[0mattrs\u001b[0m\u001b[0;34m=\u001b[0m\u001b[0mattrs\u001b[0m\u001b[0;34m,\u001b[0m\u001b[0;34m\u001b[0m\u001b[0;34m\u001b[0m\u001b[0m\n\u001b[0;32m--> 596\u001b[0;31m               ctx=ctx)\n\u001b[0m\u001b[1;32m    597\u001b[0m         \u001b[0;32melse\u001b[0m\u001b[0;34m:\u001b[0m\u001b[0;34m\u001b[0m\u001b[0;34m\u001b[0m\u001b[0m\n\u001b[1;32m    598\u001b[0m           outputs = execute.execute_with_cancellation(\n",
            "\u001b[0;32m/usr/local/lib/python3.7/dist-packages/tensorflow/python/eager/execute.py\u001b[0m in \u001b[0;36mquick_execute\u001b[0;34m(op_name, num_outputs, inputs, attrs, ctx, name)\u001b[0m\n\u001b[1;32m     58\u001b[0m     \u001b[0mctx\u001b[0m\u001b[0;34m.\u001b[0m\u001b[0mensure_initialized\u001b[0m\u001b[0;34m(\u001b[0m\u001b[0;34m)\u001b[0m\u001b[0;34m\u001b[0m\u001b[0;34m\u001b[0m\u001b[0m\n\u001b[1;32m     59\u001b[0m     tensors = pywrap_tfe.TFE_Py_Execute(ctx._handle, device_name, op_name,\n\u001b[0;32m---> 60\u001b[0;31m                                         inputs, attrs, num_outputs)\n\u001b[0m\u001b[1;32m     61\u001b[0m   \u001b[0;32mexcept\u001b[0m \u001b[0mcore\u001b[0m\u001b[0;34m.\u001b[0m\u001b[0m_NotOkStatusException\u001b[0m \u001b[0;32mas\u001b[0m \u001b[0me\u001b[0m\u001b[0;34m:\u001b[0m\u001b[0;34m\u001b[0m\u001b[0;34m\u001b[0m\u001b[0m\n\u001b[1;32m     62\u001b[0m     \u001b[0;32mif\u001b[0m \u001b[0mname\u001b[0m \u001b[0;32mis\u001b[0m \u001b[0;32mnot\u001b[0m \u001b[0;32mNone\u001b[0m\u001b[0;34m:\u001b[0m\u001b[0;34m\u001b[0m\u001b[0;34m\u001b[0m\u001b[0m\n",
            "\u001b[0;31mFailedPreconditionError\u001b[0m:  Table not initialized.\n\t [[node model_4/text_vectorization_9/string_lookup_10/None_Lookup/LookupTableFindV2 (defined at <ipython-input-278-3c5c2b86ce5a>:4) ]] [Op:__inference_train_function_635273]\n\nFunction call stack:\ntrain_function\n"
          ]
        }
      ]
    },
    {
      "cell_type": "code",
      "metadata": {
        "id": "BSwvKkHUzdsn"
      },
      "source": [
        ""
      ],
      "execution_count": null,
      "outputs": []
    }
  ]
}